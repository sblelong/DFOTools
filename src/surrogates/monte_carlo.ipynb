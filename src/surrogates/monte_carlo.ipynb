{
 "cells": [
  {
   "cell_type": "code",
   "execution_count": 1,
   "id": "5035cb6b",
   "metadata": {},
   "outputs": [],
   "source": [
    "import numpy as np"
   ]
  },
  {
   "cell_type": "code",
   "execution_count": 10,
   "id": "ca70df90",
   "metadata": {},
   "outputs": [],
   "source": [
    "def g(z):\n",
    "    if (\n",
    "        z[0] * z[4] + z[1] * z[5] + z[2] * z[3]\n",
    "        > z[0] * z[5] + z[1] * z[3] + z[2] * z[4]\n",
    "    ):\n",
    "        return 0\n",
    "    else:\n",
    "        return 1"
   ]
  },
  {
   "cell_type": "code",
   "execution_count": 13,
   "id": "9320bf68",
   "metadata": {},
   "outputs": [],
   "source": [
    "def monte_carlo(g, theta, r):\n",
    "    theta1, theta2 = theta\n",
    "    a = np.sin(0.5 * theta1)\n",
    "    c = -a + np.sin(0.5 * theta1 + theta2)\n",
    "    b = 1 - np.cos(0.5 * theta1)\n",
    "    d = b + np.cos(0.5 * theta1 + theta2)\n",
    "\n",
    "    if 0.75 - c - c**2 < 0:\n",
    "        return np.inf\n",
    "\n",
    "    h = d - np.sqrt(0.75 - c - c**2)\n",
    "\n",
    "    k = 0\n",
    "\n",
    "    np.random.seed(2352025)\n",
    "\n",
    "    for _ in range(1, int(r) + 1):\n",
    "        x = 0.5 * np.random.uniform()\n",
    "        y = np.random.uniform()\n",
    "\n",
    "        if y > h:\n",
    "            if 2 * (1 - h) * x + y < 1:\n",
    "                x = 0.5 - x\n",
    "                y = 1 + h - y\n",
    "            k += g([0, c, x, 1, d, y]) * g([c, 0.5, x, d, h, y])\n",
    "        else:\n",
    "            if y > 2 * h * x:\n",
    "                x = 0.5 - x\n",
    "                y = h - y\n",
    "            k += g([0.5, a, x, h, b, y]) * g([a, 0, x, b, 0, y])\n",
    "\n",
    "    return -0.5 * (1 + k / r)"
   ]
  },
  {
   "cell_type": "code",
   "execution_count": 14,
   "id": "d4b56c81",
   "metadata": {},
   "outputs": [
    {
     "data": {
      "text/plain": [
       "-0.725304765"
      ]
     },
     "execution_count": 14,
     "metadata": {},
     "output_type": "execute_result"
    }
   ],
   "source": [
    "monte_carlo(g, [np.pi / 7, np.pi / 7], 1e8)"
   ]
  }
 ],
 "metadata": {
  "kernelspec": {
   "display_name": ".venv",
   "language": "python",
   "name": ".venv"
  },
  "language_info": {
   "codemirror_mode": {
    "name": "ipython",
    "version": 3
   },
   "file_extension": ".py",
   "mimetype": "text/x-python",
   "name": "python",
   "nbconvert_exporter": "python",
   "pygments_lexer": "ipython3",
   "version": "3.9.19"
  }
 },
 "nbformat": 4,
 "nbformat_minor": 5
}
